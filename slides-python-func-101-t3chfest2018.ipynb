{
 "cells": [
  {
   "cell_type": "markdown",
   "metadata": {
    "slideshow": {
     "slide_type": "slide"
    }
   },
   "source": [
    "# Programación funcional en Python 101\n",
    "### David Barragán Merino (@bameda)\n",
    "##### TechFest 2018"
   ]
  },
  {
   "cell_type": "markdown",
   "metadata": {
    "slideshow": {
     "slide_type": "slide"
    }
   },
   "source": [
    "# Quién soy\n",
    "\n",
    "## David Barragán Merino\n",
    "\n",
    "Enginee & Co-founder at Kaleidos (https://kaleidos.net/FFF8E7)\n",
    "\n",
    "Co-founder at Taiga (https://taiga.io/)\n",
    "\n",
    "Twitter: [@bameda](https://twitter.com/bameda)\n",
    "\n",
    "GitHub: [bameda](https://github.com/bameda)"
   ]
  },
  {
   "cell_type": "markdown",
   "metadata": {
    "slideshow": {
     "slide_type": "slide"
    }
   },
   "source": [
    "# Disclaimer\n",
    "\n",
    "### Es una charla 101\n",
    "\n",
    "> In American university course numbering systems, the number 101 is often used for an introductory course at a beginner's level in a department's subject area. This common numbering system was designed to make transfer between colleges easier. In theory, any numbered course in one academic institution should bring a student to the same standard as a similarly numbered course at other institutions.[7] The term was first introduced by the University of Buffalo in 1929.\n",
    ">\n",
    "> Based on this usage, the term \"101\" has been extended to mean an introductory level of learning or a collection of introductory materials to a topic.\n",
    ">\n",
    "> _Wikipedia: 101 (topic) https://en.wikipedia.org/wiki/101_%28topic%29 _"
   ]
  },
  {
   "cell_type": "markdown",
   "metadata": {
    "slideshow": {
     "slide_type": "slide"
    }
   },
   "source": [
    "# Spoiler "
   ]
  },
  {
   "cell_type": "markdown",
   "metadata": {
    "slideshow": {
     "slide_type": "fragment"
    }
   },
   "source": [
    "### Python no es un lenguaje funcional"
   ]
  },
  {
   "cell_type": "markdown",
   "metadata": {
    "slideshow": {
     "slide_type": "fragment"
    }
   },
   "source": [
    "### ...pero al ser multiparadigma hace que sea fácil utilizar prácticas afines a la programación funcional"
   ]
  },
  {
   "cell_type": "markdown",
   "metadata": {
    "slideshow": {
     "slide_type": "slide"
    }
   },
   "source": [
    "# índice\n",
    "\n",
    "- Intro \n",
    "- Motivación de la FP\n",
    "- Principios de la FP\n",
    "- Python y la FP\n",
    "- Qué lleva en las baterías\n",
    "  - Evaluación perezosa: list comprenhension, iteradores y generadores, \n",
    "  - Aplicación partcial\n",
    "  - Funciones Lambda\n",
    "  - Funciones de orden superior: map, filter, sorter, reducer, decorators\n",
    "  - Itertools\n",
    "  - Functools y decoradores\n",
    "- Qué hay por ahí fuera:\n",
    "  - Fn.py https://github.com/kachayev/fn.py -> https://github.com/fnpy\n",
    "  - toolz https://github.com/pytoolz/toolz \n",
    "  - Funcy https://github.com/Suor/funcy \n",
    "  - Funktown https://github.com/zhemao/funktown \n",
    "  - Pyrsistence\n",
    "\n"
   ]
  },
  {
   "cell_type": "markdown",
   "metadata": {
    "slideshow": {
     "slide_type": "slide"
    }
   },
   "source": [
    "# Intro "
   ]
  },
  {
   "cell_type": "markdown",
   "metadata": {
    "slideshow": {
     "slide_type": "slide"
    }
   },
   "source": [
    "# Motivación de la FP"
   ]
  },
  {
   "cell_type": "markdown",
   "metadata": {
    "slideshow": {
     "slide_type": "slide"
    }
   },
   "source": [
    "# Principios de la FP"
   ]
  },
  {
   "cell_type": "markdown",
   "metadata": {
    "slideshow": {
     "slide_type": "slide"
    }
   },
   "source": [
    "# Python y la FP"
   ]
  },
  {
   "cell_type": "markdown",
   "metadata": {
    "slideshow": {
     "slide_type": "slide"
    }
   },
   "source": [
    "# Qué lleva en las baterías"
   ]
  },
  {
   "cell_type": "markdown",
   "metadata": {
    "slideshow": {
     "slide_type": "slide"
    }
   },
   "source": [
    "# Evaluación perezosa: list comprenhension, iteradores y generadores, "
   ]
  },
  {
   "cell_type": "markdown",
   "metadata": {
    "slideshow": {
     "slide_type": "slide"
    }
   },
   "source": [
    "# Aplicación partcial"
   ]
  },
  {
   "cell_type": "markdown",
   "metadata": {
    "slideshow": {
     "slide_type": "slide"
    }
   },
   "source": [
    "# Funciones Lambda"
   ]
  },
  {
   "cell_type": "markdown",
   "metadata": {
    "slideshow": {
     "slide_type": "slide"
    }
   },
   "source": [
    "# Funciones de orden superior: map, filter, sorter, reducer, decorators"
   ]
  },
  {
   "cell_type": "markdown",
   "metadata": {
    "slideshow": {
     "slide_type": "slide"
    }
   },
   "source": [
    "# Itertools"
   ]
  },
  {
   "cell_type": "markdown",
   "metadata": {
    "slideshow": {
     "slide_type": "slide"
    }
   },
   "source": [
    "# Functools y decoradores"
   ]
  },
  {
   "cell_type": "markdown",
   "metadata": {
    "slideshow": {
     "slide_type": "slide"
    }
   },
   "source": [
    "# Qué hay por ahí fuera:"
   ]
  },
  {
   "cell_type": "markdown",
   "metadata": {
    "slideshow": {
     "slide_type": "slide"
    }
   },
   "source": [
    "# Fn.py \n",
    "## https://github.com/kachayev/fn.py -> https://github.com/fnpy"
   ]
  },
  {
   "cell_type": "markdown",
   "metadata": {
    "slideshow": {
     "slide_type": "slide"
    }
   },
   "source": [
    "# toolz \n",
    "## https://github.com/pytoolz/toolz \n"
   ]
  },
  {
   "cell_type": "markdown",
   "metadata": {
    "slideshow": {
     "slide_type": "slide"
    }
   },
   "source": [
    "# Funcy \n",
    "## https://github.com/Suor/funcy \n"
   ]
  },
  {
   "cell_type": "markdown",
   "metadata": {
    "slideshow": {
     "slide_type": "slide"
    }
   },
   "source": [
    "# Funktown\n",
    "## https://github.com/zhemao/funktown \n"
   ]
  },
  {
   "cell_type": "markdown",
   "metadata": {
    "slideshow": {
     "slide_type": "slide"
    }
   },
   "source": [
    "# Pyrsistence"
   ]
  },
  {
   "cell_type": "markdown",
   "metadata": {
    "slideshow": {
     "slide_type": "slide"
    }
   },
   "source": [
    "# "
   ]
  },
  {
   "cell_type": "markdown",
   "metadata": {
    "slideshow": {
     "slide_type": "slide"
    }
   },
   "source": [
    "# Gracias"
   ]
  },
  {
   "cell_type": "markdown",
   "metadata": {
    "slideshow": {
     "slide_type": "slide"
    }
   },
   "source": [
    "# Bibliografía"
   ]
  }
 ],
 "metadata": {
  "celltoolbar": "Slideshow",
  "kernelspec": {
   "display_name": "Python 3",
   "language": "python",
   "name": "python3"
  },
  "language_info": {
   "codemirror_mode": {
    "name": "ipython",
    "version": 3
   },
   "file_extension": ".py",
   "mimetype": "text/x-python",
   "name": "python",
   "nbconvert_exporter": "python",
   "pygments_lexer": "ipython3",
   "version": "3.6.4"
  }
 },
 "nbformat": 4,
 "nbformat_minor": 2
}
