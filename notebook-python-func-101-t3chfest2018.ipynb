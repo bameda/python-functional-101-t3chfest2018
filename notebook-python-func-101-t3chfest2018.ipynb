{
 "cells": [
  {
   "cell_type": "markdown",
   "metadata": {
    "slideshow": {
     "slide_type": "slide"
    }
   },
   "source": [
    "# Programación funcional en Python 101\n",
    "### David Barragán Merino (@bameda)\n",
    "##### TechFest 2018"
   ]
  },
  {
   "cell_type": "markdown",
   "metadata": {},
   "source": [
    "## Programación imperativa vs declarativa"
   ]
  },
  {
   "cell_type": "code",
   "execution_count": null,
   "metadata": {},
   "outputs": [],
   "source": [
    "input = \"23+45++++2++5++32++100\"\n",
    "res = 0\n",
    "for t in input.split(\"+\"):\n",
    "    if t:\n",
    "        res += int(t)\n",
    "\n",
    "print(res)"
   ]
  },
  {
   "cell_type": "code",
   "execution_count": null,
   "metadata": {},
   "outputs": [],
   "source": [
    "input = \"23+45++++2++5++32++100\"\n",
    "from functools import reduce                                                                                                                \n",
    "from operator import add\n",
    "res = reduce(add, map(int, filter(bool, input.split(\"+\"))))\n",
    "print(res)"
   ]
  },
  {
   "cell_type": "markdown",
   "metadata": {},
   "source": [
    "## List  comprenhension"
   ]
  },
  {
   "cell_type": "code",
   "execution_count": null,
   "metadata": {},
   "outputs": [],
   "source": [
    "values = ['piedra','papel', 'tijera']\n",
    "combs = []\n",
    "for x in values:\n",
    "    for y in values:\n",
    "        if x != y:\n",
    "            combs.append((x, y))\n",
    "print(combs)"
   ]
  },
  {
   "cell_type": "code",
   "execution_count": null,
   "metadata": {},
   "outputs": [],
   "source": [
    "values = ['piedra','papel', 'tijera']\n",
    "combs = [(x, y) for x in values for y in values if x != y]\n",
    "print(combs)"
   ]
  },
  {
   "cell_type": "code",
   "execution_count": null,
   "metadata": {},
   "outputs": [],
   "source": [
    "values = ['piedra','papel', 'tijera']\n",
    "combs = ((x, y) for x in values for y in values if x != y)\n",
    "print(combs)"
   ]
  },
  {
   "cell_type": "code",
   "execution_count": null,
   "metadata": {},
   "outputs": [],
   "source": [
    "next(combs)"
   ]
  },
  {
   "cell_type": "code",
   "execution_count": null,
   "metadata": {},
   "outputs": [],
   "source": [
    "next(combs)"
   ]
  },
  {
   "cell_type": "markdown",
   "metadata": {},
   "source": [
    "## Iteradores y generadores"
   ]
  },
  {
   "cell_type": "code",
   "execution_count": null,
   "metadata": {},
   "outputs": [],
   "source": [
    "l = [1, 2, 3, 4]\n",
    "l.__iter__"
   ]
  },
  {
   "cell_type": "code",
   "execution_count": null,
   "metadata": {},
   "outputs": [],
   "source": [
    "l.__next__"
   ]
  },
  {
   "cell_type": "code",
   "execution_count": null,
   "metadata": {},
   "outputs": [],
   "source": [
    "li = iter(l)"
   ]
  },
  {
   "cell_type": "code",
   "execution_count": null,
   "metadata": {},
   "outputs": [],
   "source": [
    "li.__next__"
   ]
  },
  {
   "cell_type": "code",
   "execution_count": null,
   "metadata": {},
   "outputs": [],
   "source": [
    "class yrange:\n",
    "    def __init__(self, n):\n",
    "        self.i = 0\n",
    "        self.n = n\n",
    "\n",
    "    def __iter__(self):\n",
    "        return self\n",
    "\n",
    "    def __next__(self):\n",
    "        if self.i < self.n:\n",
    "            i = self.i\n",
    "            self.i += 1\n",
    "            return i\n",
    "        else:\n",
    "            raise StopIteration()"
   ]
  },
  {
   "cell_type": "code",
   "execution_count": null,
   "metadata": {},
   "outputs": [],
   "source": [
    "y = yrange(3)\n",
    "print(next(y))\n",
    "print(next(y))\n",
    "print(next(y))\n",
    "print(next(y))"
   ]
  },
  {
   "cell_type": "code",
   "execution_count": null,
   "metadata": {},
   "outputs": [],
   "source": [
    "class zrange:\n",
    "    def __init__(self, n):\n",
    "        self.n = n\n",
    "\n",
    "    def __iter__(self):\n",
    "        return zrange_iter(self.n)\n",
    "\n",
    "class zrange_iter:\n",
    "    def __init__(self, n):\n",
    "        self.i = 0\n",
    "        self.n = n\n",
    "\n",
    "    def __iter__(self):\n",
    "        # Iterators are iterables too.\n",
    "        # Adding this functions to make them so.\n",
    "        return self\n",
    "\n",
    "    def __next__(self):\n",
    "        if self.i < self.n:\n",
    "            i = self.i\n",
    "            self.i += 1\n",
    "            return i\n",
    "        else:\n",
    "            raise StopIteration()"
   ]
  },
  {
   "cell_type": "code",
   "execution_count": null,
   "metadata": {},
   "outputs": [],
   "source": [
    "y = yrange(5)\n",
    "print(list(y))\n",
    "print(list(y))\n",
    "z = zrange(5)\n",
    "print(list(z))\n",
    "print(list(z))\n"
   ]
  },
  {
   "cell_type": "code",
   "execution_count": null,
   "metadata": {},
   "outputs": [],
   "source": [
    "def my_generator():\n",
    "    yield 'a'\n",
    "    yield 'b'\n",
    "    yield 'c'"
   ]
  },
  {
   "cell_type": "code",
   "execution_count": null,
   "metadata": {},
   "outputs": [],
   "source": [
    "g = my_generator()\n",
    "print(g)\n",
    "print(next(g))\n",
    "print(next(g))\n",
    "print(next(g))\n",
    "print(next(g))"
   ]
  },
  {
   "cell_type": "code",
   "execution_count": null,
   "metadata": {},
   "outputs": [],
   "source": [
    "def get_even(stop):                                                                                                                         \n",
    "    \"\"\"Return all the even numbers &lt;= stop.\"\"\"\n",
    " \n",
    "    numbers = []\n",
    "    n = 0\n",
    "    while n <= stop:\n",
    "        numbers.append(n)\n",
    "        n += 2\n",
    "return numbers\n",
    " \n",
    "print(get_even(10))"
   ]
  },
  {
   "cell_type": "code",
   "execution_count": null,
   "metadata": {},
   "outputs": [],
   "source": [
    "print(get_even(1e18))"
   ]
  },
  {
   "cell_type": "code",
   "execution_count": null,
   "metadata": {},
   "outputs": [],
   "source": [
    "def count():\n",
    "    n = 0\n",
    "    while True:\n",
    "        yield n\n",
    "        n +=1"
   ]
  },
  {
   "cell_type": "code",
   "execution_count": null,
   "metadata": {},
   "outputs": [],
   "source": [
    "counter = count()\n",
    "print(next(counter))\n",
    "print(next(counter))\n",
    "print(next(counter))\n",
    "print(next(counter))"
   ]
  },
  {
   "cell_type": "markdown",
   "metadata": {},
   "source": [
    "## Lambda expresion"
   ]
  },
  {
   "cell_type": "code",
   "execution_count": null,
   "metadata": {},
   "outputs": [],
   "source": [
    "sum_numbers = lambda x, y: x+y\n",
    "print(sum_numbers)\n",
    "sum_numbers(1, 4)"
   ]
  },
  {
   "cell_type": "code",
   "execution_count": null,
   "metadata": {},
   "outputs": [],
   "source": [
    "even_or_odd = lambda x: \"even\" if x % 2 == 0 else \"odd\"\n",
    "\n",
    "print(f\"1 is {even_or_odd(1)}\")\n",
    "print(f\"4 is {even_or_odd(4)}\")\n",
    "print(f\"22 is {even_or_odd(22)}\")                                                                             \n",
    "print(f\"1479 is {even_or_odd(1479)}\")"
   ]
  },
  {
   "cell_type": "code",
   "execution_count": null,
   "metadata": {},
   "outputs": [],
   "source": [
    "def twice(f):\n",
    "    return lambda x: f(f(x))\n",
    "\n",
    "plus_three = lambda x: x + 3\n",
    "\n",
    "twice_plus_three = twice(plus_three)"
   ]
  },
  {
   "cell_type": "code",
   "execution_count": null,
   "metadata": {},
   "outputs": [],
   "source": [
    "twice_plus_three(10)"
   ]
  },
  {
   "cell_type": "markdown",
   "metadata": {},
   "source": [
    "## Itertools"
   ]
  },
  {
   "cell_type": "markdown",
   "metadata": {},
   "source": [
    "#### Ex1:"
   ]
  },
  {
   "cell_type": "code",
   "execution_count": null,
   "metadata": {},
   "outputs": [],
   "source": [
    "def compress(word):\n",
    "    result = []                                                                                                                             \n",
    "    current = word[0]               \n",
    "    counter = 1\n",
    " \n",
    "    for letter in word[1:]:         \n",
    "        if letter == current:           \n",
    "            # We're still in the same group \n",
    "            counter += 1                    \n",
    "        else:\n",
    "            # We need to start a new group  \n",
    "            result += [current, str(counter)]\n",
    "            current = letter # start a new group\n",
    "            counter = 1                     \n",
    "    result += [current, str(counter)]\n",
    "    return \"\".join(result)          \n",
    "\n",
    "\n",
    "compress(\"sssdddddxxaaaaaa\")    "
   ]
  },
  {
   "cell_type": "code",
   "execution_count": null,
   "metadata": {},
   "outputs": [],
   "source": [
    "import itertools\n",
    "\n",
    "def compress(word):\n",
    "    return ''.join(f\"{key}{len(list(group))}\"\n",
    "                   for key, group in itertools.groupby(word))\n",
    "\n",
    "\n",
    "compress(\"sssdddddxxaaaaaa\")    "
   ]
  },
  {
   "cell_type": "markdown",
   "metadata": {},
   "source": [
    "#### Ex2"
   ]
  },
  {
   "cell_type": "code",
   "execution_count": null,
   "metadata": {},
   "outputs": [],
   "source": [
    "def product(first, second, third, fourth):\n",
    "    \"\"\"A generator of the Cartesian product of four iterables.\"\"\"\n",
    "    \n",
    "    for w in first:\n",
    "        for x in second:\n",
    "            for y in third:\n",
    "                for z in fourth:\n",
    "                    yield (w, x, y, z)\n",
    "            \n",
    "dice = range(1, 7)\n",
    "tuple(product(dice, dice, dice, dice))"
   ]
  },
  {
   "cell_type": "code",
   "execution_count": null,
   "metadata": {},
   "outputs": [],
   "source": [
    "import itertools\n",
    "dice = range(1, 7)\n",
    "tuple(itertools.product(dice, repeat=4))"
   ]
  },
  {
   "cell_type": "code",
   "execution_count": null,
   "metadata": {},
   "outputs": [],
   "source": [
    "tuple(\n",
    "    filter(lambda x: sum(x) == 6, \n",
    "           itertools.product(dice, repeat=4))\n",
    ")"
   ]
  },
  {
   "cell_type": "code",
   "execution_count": null,
   "metadata": {},
   "outputs": [],
   "source": [
    "import collections, itertools\n",
    "\n",
    "class Coord(collections.namedtuple(\"Coord\", \"x y\")):\n",
    "    def neighbours(self):\n",
    "        \"\"\"Return a generator of the eight neighbours of a coordinate.\"\"\"\n",
    "        \n",
    "        cls = type(self) \n",
    "        for x_delta, y_delta in itertools.product([-1, 0, 1], repeat=2):\n",
    "            if x_delta or y_delta:  # ignore delta (0, 0)\n",
    "                yield cls(self.x + x_delta, self.y + y_delta)\n",
    "                \n",
    "                \n",
    "tuple(Coord(12, 4).neighbours())"
   ]
  },
  {
   "cell_type": "markdown",
   "metadata": {},
   "source": [
    "## Higher-order functions, functools"
   ]
  },
  {
   "cell_type": "code",
   "execution_count": null,
   "metadata": {},
   "outputs": [],
   "source": [
    "m = map(lambda x, y: (x,y), (1, 2, 3, 4), ('a', 'b', 'c', 'd'))"
   ]
  },
  {
   "cell_type": "code",
   "execution_count": null,
   "metadata": {},
   "outputs": [],
   "source": [
    "print(m.__iter__)"
   ]
  },
  {
   "cell_type": "code",
   "execution_count": null,
   "metadata": {},
   "outputs": [],
   "source": [
    "print(m.__next__)"
   ]
  },
  {
   "cell_type": "code",
   "execution_count": null,
   "metadata": {},
   "outputs": [],
   "source": [
    "tuple(m)"
   ]
  },
  {
   "cell_type": "code",
   "execution_count": null,
   "metadata": {},
   "outputs": [],
   "source": [
    "list(m)"
   ]
  },
  {
   "cell_type": "code",
   "execution_count": null,
   "metadata": {},
   "outputs": [],
   "source": [
    "tuple(filter(lambda x: x % 2 == 0, [1, 2, 3, 4, 5, 15, 17, 32, 1986]))"
   ]
  },
  {
   "cell_type": "code",
   "execution_count": null,
   "metadata": {},
   "outputs": [],
   "source": [
    "from collections import namedtuple\n",
    "\n",
    "Student = namedtuple('Student', ('name', 'age', 'grade'))\n",
    "\n",
    "students = (\n",
    "    Student(\"María\", 21, 'C'),\n",
    "    Student(\"Pedro\", 22, 'B'),\n",
    "    Student(\"Rosa\", age=21, grade='A')\n",
    ")\n",
    "\n",
    "sorted(students, key=lambda s: s.age)"
   ]
  },
  {
   "cell_type": "code",
   "execution_count": null,
   "metadata": {},
   "outputs": [],
   "source": [
    "from operator import attrgetter\n",
    "sorted(students, key=attrgetter('age', 'grade'))"
   ]
  },
  {
   "cell_type": "code",
   "execution_count": null,
   "metadata": {},
   "outputs": [],
   "source": [
    "## Functools"
   ]
  },
  {
   "cell_type": "code",
   "execution_count": null,
   "metadata": {},
   "outputs": [],
   "source": [
    "import functools\n",
    "functools.reduce(lambda x, y: x * y, range(1, 11))"
   ]
  },
  {
   "cell_type": "code",
   "execution_count": null,
   "metadata": {},
   "outputs": [],
   "source": [
    "import functools\n",
    "\n",
    "@functools.lru_cache()\n",
    "def get_heavy_query(param):\n",
    "    print(f\"Accessing to the db (param={param}\")\n",
    "    return param * 3\n",
    "\n",
    "print(get_heavy_query(1))\n",
    "print(get_heavy_query(2))\n",
    "print(get_heavy_query(1))\n",
    "print(get_heavy_query(1))\n",
    "print(get_heavy_query(2))\n",
    "print(get_heavy_query(1))\n",
    "print(get_heavy_query(3))"
   ]
  },
  {
   "cell_type": "markdown",
   "metadata": {},
   "source": [
    "### Clousures"
   ]
  },
  {
   "cell_type": "code",
   "execution_count": null,
   "metadata": {},
   "outputs": [],
   "source": [
    "class MultiplierMaker:\n",
    "    def __init__(self, n):\n",
    "        self.n = n\n",
    "        \n",
    "    def multiplier(self, x):\n",
    "        return self.n * x\n",
    "    \n",
    "times3 = MultiplierMaker(3)\n",
    "times5 = MultiplierMaker(5)\n",
    "\n",
    "print(times3.multiplier(9))\n",
    "print(times5.multiplier(3))\n",
    "print(times5.multiplier(times3.multiplier(2)))"
   ]
  },
  {
   "cell_type": "code",
   "execution_count": null,
   "metadata": {},
   "outputs": [],
   "source": [
    "def make_multiplier_of(n):\n",
    "    def multiplier(x):\n",
    "        return x * n\n",
    "    return multiplier\n",
    "\n",
    "times3 = make_multiplier_of(3)\n",
    "times5 = make_multiplier_of(5)\n",
    "\n",
    "print(times3(9))\n",
    "print(times5(3))\n",
    "print(times5(times3(2)))"
   ]
  },
  {
   "cell_type": "code",
   "execution_count": null,
   "metadata": {},
   "outputs": [],
   "source": [
    "print(make_multiplier_of.__closure__)"
   ]
  },
  {
   "cell_type": "code",
   "execution_count": null,
   "metadata": {},
   "outputs": [],
   "source": [
    "print(times3.__closure__[0].cell_contents)"
   ]
  },
  {
   "cell_type": "markdown",
   "metadata": {},
   "source": [
    "### Decorators"
   ]
  },
  {
   "cell_type": "code",
   "execution_count": null,
   "metadata": {},
   "outputs": [],
   "source": [
    "def bold(fn):\n",
    "    def wrapped():\n",
    "        return f\"**{fn()}**\"\n",
    "    return wrapped\n",
    "\n",
    "def italic(fn):\n",
    "    def wrapped():\n",
    "        return f\"__{fn()}__\"\n",
    "    return wrapped"
   ]
  },
  {
   "cell_type": "code",
   "execution_count": null,
   "metadata": {},
   "outputs": [],
   "source": [
    "def hello():\n",
    "    return \"hello world\"\n",
    "\n",
    "print(bold(italic(hello))())      "
   ]
  },
  {
   "cell_type": "code",
   "execution_count": null,
   "metadata": {},
   "outputs": [],
   "source": [
    "@bold\n",
    "@italic\n",
    "def hello():\n",
    "    return \"hello world\"\n",
    "\n",
    "print(hello())"
   ]
  },
  {
   "cell_type": "code",
   "execution_count": null,
   "metadata": {},
   "outputs": [],
   "source": [
    "@bold\n",
    "@italic\n",
    "def hello():\n",
    "    \"\"\"Print hello message\"\"\"\n",
    "    return \"hello world\"\n",
    "\n",
    "print(hello.__name__)\n",
    "print(hello.__doc__)"
   ]
  },
  {
   "cell_type": "code",
   "execution_count": null,
   "metadata": {},
   "outputs": [],
   "source": [
    "import functools\n",
    "\n",
    "def bold(fn):\n",
    "    @functools.wraps(fn)\n",
    "    def wrapped():\n",
    "        return f\"**{fn()}**\"\n",
    "    return wrapped\n",
    "\n",
    "@bold\n",
    "def hello():\n",
    "    \"\"\"Print hello message\"\"\"\n",
    "    return \"hello world\"\n",
    "\n",
    "print(hello.__name__)\n",
    "print(hello.__doc__)   "
   ]
  },
  {
   "cell_type": "code",
   "execution_count": null,
   "metadata": {},
   "outputs": [],
   "source": [
    "from functools import wraps\n",
    "\n",
    "def md_tag(tag):\n",
    "    def factory(func):\n",
    "        @wraps(func)\n",
    "        def decorator(msg):\n",
    "            return f\"{tag}{func(msg)}{tag}\"\n",
    "        return decorator\n",
    "    return factory\n",
    "\n",
    "@md_tag(\"**\")\n",
    "@md_tag(\"__\")\n",
    "def message(msg):\n",
    "    return msg\n",
    "\n",
    "print(message(\"T3chFest\"))"
   ]
  },
  {
   "cell_type": "code",
   "execution_count": null,
   "metadata": {},
   "outputs": [],
   "source": [
    "def count():\n",
    "    yield 1\n",
    "    yield 2\n",
    "    yield 3\n",
    "    \n",
    "for c in count():\n",
    "    print(c)"
   ]
  },
  {
   "cell_type": "markdown",
   "metadata": {},
   "source": [
    "## Partial function application"
   ]
  },
  {
   "cell_type": "code",
   "execution_count": null,
   "metadata": {},
   "outputs": [],
   "source": [
    "def log(level, msg):\n",
    "    print(f\"[{level}]: {msg}\")\n",
    "    \n",
    "def debug(msg):\n",
    "\n",
    "    log(\"debug\", msg)\n",
    "    \n",
    "log(\"debug\", \"Start doing something\")\n",
    "log(\"debug\", \"Continue with something else\")\n",
    "debug(\"Finished. Procastinate\")"
   ]
  },
  {
   "cell_type": "code",
   "execution_count": null,
   "metadata": {},
   "outputs": [],
   "source": [
    "from functools import partial\n",
    "\n",
    "def log(level, msg):\n",
    "    print(f\"[{level}]: {msg}\")\n",
    "    \n",
    "info = partial(log, \"info\")\n",
    "debug = partial(log, \"debug\")\n",
    "warn = partial(log, \"warning\")\n",
    "error = partial(log, \"error\")\n",
    "\n",
    "debug(\"Start doing something\")\n",
    "debug(\"Continue with something else\")\n",
    "debug(\"Procastinate\")\n",
    "info(\"End\")"
   ]
  },
  {
   "cell_type": "code",
   "execution_count": null,
   "metadata": {},
   "outputs": [],
   "source": [
    "## Currying"
   ]
  },
  {
   "cell_type": "code",
   "execution_count": null,
   "metadata": {},
   "outputs": [],
   "source": [
    "def curry(fn):\n",
    "    def curried(*args, **kwargs):\n",
    "        return curry(partial(fn, *args, **kwargs)) if args or kwargs else fn()\n",
    "    return curried\n",
    "\n",
    "@curry\n",
    "def add(a, b, c, d, e, f, g):\n",
    "    return a + b + c + d + e + f + g\n",
    "\n",
    "add12 = add(1)(2)\n",
    "add1234 = add12(3)(4)\n",
    "add1234567 = add1234(5)(6)(7)\n",
    "add1234321 = add1234(3)(2)(1)\n",
    "\n",
    "print(add1234567())\n",
    "print(add1234321())"
   ]
  },
  {
   "cell_type": "code",
   "execution_count": null,
   "metadata": {},
   "outputs": [],
   "source": [
    "@curry\n",
    "def accumulator(*args):\n",
    "    return sum(args)\n",
    "\n",
    "acc = accumulator(10)\n",
    "acc = acc(12)(15)(22)\n",
    "acc = acc(1)(1)\n",
    "\n",
    "print(acc())"
   ]
  },
  {
   "cell_type": "code",
   "execution_count": null,
   "metadata": {},
   "outputs": [],
   "source": [
    "currencies =  {\n",
    "    'GBP': 0.879700, \n",
    "    'JPY': 131.259995, \n",
    "    'EUR': 1.0, \n",
    "    'USD': 1.223200\n",
    "}\n",
    "\n",
    "@curry\n",
    "def exchange(from_currency, to_currency, amount):\n",
    "    return amount * currencies[to_currency] / currencies[from_currency]\n",
    "\n",
    "\n",
    "from_eur = exchange('EUR')\n",
    "from_gbp = exchange('GBP') \n",
    "\n",
    "from_eur_to_gbp = from_eur('GBP')\n",
    "from_eur_to_usd = from_eur('USD')\n",
    "from_gbp_to_eur = from_gbp('EUR')\n",
    "\n",
    "print(from_eur_to_gbp(100.0)())\n",
    "print(from_gbp_to_eur(87.97)())\n",
    "print(from_eur_to_usd(10.0)())"
   ]
  },
  {
   "cell_type": "code",
   "execution_count": null,
   "metadata": {},
   "outputs": [],
   "source": [
    "## Recursion"
   ]
  },
  {
   "cell_type": "code",
   "execution_count": null,
   "metadata": {},
   "outputs": [],
   "source": [
    "import sys\n",
    "sys.getrecursionlimit()"
   ]
  },
  {
   "cell_type": "code",
   "execution_count": null,
   "metadata": {},
   "outputs": [],
   "source": [
    "def fib(n, sum):\n",
    "    return sum if not n else fib(n-1, sum+n)\n",
    "\n",
    "fib(3500, 0)"
   ]
  },
  {
   "cell_type": "code",
   "execution_count": null,
   "metadata": {},
   "outputs": [],
   "source": []
  }
 ],
 "metadata": {
  "celltoolbar": "Slideshow",
  "kernelspec": {
   "display_name": "Python 3",
   "language": "python",
   "name": "python3"
  },
  "language_info": {
   "codemirror_mode": {
    "name": "ipython",
    "version": 3
   },
   "file_extension": ".py",
   "mimetype": "text/x-python",
   "name": "python",
   "nbconvert_exporter": "python",
   "pygments_lexer": "ipython3",
   "version": "3.6.4"
  }
 },
 "nbformat": 4,
 "nbformat_minor": 2
}
